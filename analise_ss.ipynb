{
  "nbformat": 4,
  "nbformat_minor": 0,
  "metadata": {
    "colab": {
      "provenance": [],
      "collapsed_sections": [],
      "authorship_tag": "ABX9TyPzioQsWQYYExtn6Jd/3iuL",
      "include_colab_link": true
    },
    "kernelspec": {
      "name": "python3",
      "display_name": "Python 3"
    },
    "language_info": {
      "name": "python"
    }
  },
  "cells": [
    {
      "cell_type": "markdown",
      "metadata": {
        "id": "view-in-github",
        "colab_type": "text"
      },
      "source": [
        "<a href=\"https://colab.research.google.com/github/brav999/estudo/blob/main/analise_ss.ipynb\" target=\"_parent\"><img src=\"https://colab.research.google.com/assets/colab-badge.svg\" alt=\"Open In Colab\"/></a>"
      ]
    },
    {
      "cell_type": "code",
      "execution_count": null,
      "metadata": {
        "id": "M9Jx770t9U8m"
      },
      "outputs": [],
      "source": [
        "# importando bibliotecas \n",
        "\n",
        "import pandas as pd\n",
        "import numpy as np\n",
        "import seaborn as sns\n",
        "import matplotlib.pyplot as plt\n",
        "from scipy.stats.stats import normaltest"
      ]
    },
    {
      "cell_type": "code",
      "source": [
        "# importando o arquivo \n",
        "ss = pd.read_csv('./ss.csv')"
      ],
      "metadata": {
        "id": "VINpvjrL-cV-"
      },
      "execution_count": null,
      "outputs": []
    },
    {
      "cell_type": "code",
      "source": [
        "# conferencia dados importados\n",
        "ss.head()"
      ],
      "metadata": {
        "id": "XtYGbzLh-mVY"
      },
      "execution_count": null,
      "outputs": []
    },
    {
      "cell_type": "code",
      "source": [
        "# renomeando coluna para facilitar a analise\n",
        "ss.rename(columns={'Contagem de i_ss_tramites': 'tramites'}, inplace = True)"
      ],
      "metadata": {
        "id": "gIIu1RGb-wHp"
      },
      "execution_count": null,
      "outputs": []
    },
    {
      "cell_type": "code",
      "source": [
        "# conferindo a alteração\n",
        "ss.sample(10)"
      ],
      "metadata": {
        "id": "5zwJXshy_A5y"
      },
      "execution_count": null,
      "outputs": []
    },
    {
      "cell_type": "code",
      "source": [
        "# slice apenas da 'Contabilidade'\n",
        "fiscont = ss[ss['i_Module'] == 'Contabilidade']"
      ],
      "metadata": {
        "id": "YeJvOgWHQgB3"
      },
      "execution_count": null,
      "outputs": []
    },
    {
      "cell_type": "code",
      "source": [
        "# conferindo o slice\n",
        "print(fiscont)"
      ],
      "metadata": {
        "id": "s-8SwRDbIKkQ"
      },
      "execution_count": null,
      "outputs": []
    },
    {
      "cell_type": "code",
      "source": [
        "# conferindo média, mediana, desvio padrão do DF geral\n",
        "media = ss['tramites'].mean()\n",
        "mediana = ss['tramites'].median()\n",
        "dsv = ss['tramites'].std()\n",
        "\n",
        "print(media)\n",
        "print(mediana)\n",
        "print(dsv)"
      ],
      "metadata": {
        "id": "1yizANW_RcVL"
      },
      "execution_count": null,
      "outputs": []
    },
    {
      "cell_type": "code",
      "source": [
        "# conferindo média, mediana, desvio padrão do DF 'Contabilidade'\n",
        "\n",
        "mediacont = fiscont['tramites'].mean()\n",
        "medianacont = fiscont['tramites'].median()\n",
        "dsvcont = fiscont['tramites'].std()\n",
        "\n",
        "print(mediacont)\n",
        "print(medianacont)\n",
        "print(dsvcont)"
      ],
      "metadata": {
        "id": "-0cXNFYmSavr"
      },
      "execution_count": null,
      "outputs": []
    },
    {
      "cell_type": "code",
      "source": [
        "# slice apenas do 'Fiscal'\n",
        "fisc = ss[ss['i_Module'] == 'Escrita']"
      ],
      "metadata": {
        "id": "tsf_baG4Uody"
      },
      "execution_count": null,
      "outputs": []
    },
    {
      "cell_type": "code",
      "source": [
        "fisc.sort_values('tramites')"
      ],
      "metadata": {
        "id": "K7-6O_30VoOi"
      },
      "execution_count": null,
      "outputs": []
    },
    {
      "cell_type": "code",
      "source": [
        "# conferindo média, mediana, desvio padrão do DF 'Fiscal'\n",
        "\n",
        "mediafisc = fisc['tramites'].mean()\n",
        "medianafisc = fisc['tramites'].median()\n",
        "dsvfisc = fisc['tramites'].std()\n",
        "\n",
        "print(mediafisc)\n",
        "print(medianafisc)\n",
        "print(dsvfisc)"
      ],
      "metadata": {
        "id": "F8j9X2IRVdMQ"
      },
      "execution_count": null,
      "outputs": []
    },
    {
      "cell_type": "code",
      "source": [
        "# plot da distribuição de tramitação por analista\n",
        "sns.catplot(data=fisc, x='tramites', y='name', height=10, aspect=2)"
      ],
      "metadata": {
        "id": "AdEWiT9VmDYt"
      },
      "execution_count": null,
      "outputs": []
    },
    {
      "cell_type": "code",
      "source": [
        "# plot e teste de normalidade\n",
        "plt.figure(figsize=(10,7), dpi= 80)\n",
        "sns.histplot(fisc['tramites'], color=\"dodgerblue\", label=\"Compact\",)\n",
        "\n",
        "plt.show()\n",
        "\n",
        "alpha = 0.05\n",
        "k2, p = normaltest(fisc['tramites'])\n",
        "\n",
        "#Hipotese nula: Os dados seguem distribuição normal\n",
        "#Hipotese alternativa: Os dados não seguem distribuição normal\n",
        "\n",
        "if p < alpha:\n",
        "    print(\"A Hipótese Nula pode ser rejeitada\")\n",
        "else:\n",
        "    print(\"A hipótese nula não pode ser rejeitada\")"
      ],
      "metadata": {
        "id": "uUZ0LLQUvGYs"
      },
      "execution_count": null,
      "outputs": []
    },
    {
      "cell_type": "code",
      "source": [
        "# slice das SS com menos de 2 tramites\n",
        "tramite2 = ss[ss['tramites'] <= 2]"
      ],
      "metadata": {
        "id": "9qhewwt9VlHQ"
      },
      "execution_count": null,
      "outputs": []
    },
    {
      "cell_type": "code",
      "source": [
        "# conferência do slice\n",
        "tramite2.sample(10)"
      ],
      "metadata": {
        "id": "NaA-2KeOXSNG"
      },
      "execution_count": null,
      "outputs": []
    },
    {
      "cell_type": "code",
      "source": [
        "tramite2.count()"
      ],
      "metadata": {
        "id": "Eox7BeaNXa-P"
      },
      "execution_count": null,
      "outputs": []
    },
    {
      "cell_type": "code",
      "source": [
        "# slice das SS com mais de 3 tramites\n",
        "tramite3 = ss[ss['tramites'] > 3]"
      ],
      "metadata": {
        "id": "SeZp6Y1tXrJx"
      },
      "execution_count": null,
      "outputs": []
    },
    {
      "cell_type": "code",
      "source": [
        "tramite3.count()"
      ],
      "metadata": {
        "id": "HB0P70qBYJPY"
      },
      "execution_count": null,
      "outputs": []
    },
    {
      "cell_type": "code",
      "source": [
        "# slice apenas do 'Bruno'\n",
        "bruno = ss[ss['name'] == 'Bruno de Avila Lima']"
      ],
      "metadata": {
        "id": "efdyMbJnYPHq"
      },
      "execution_count": null,
      "outputs": []
    },
    {
      "cell_type": "code",
      "source": [
        "bruno.head()"
      ],
      "metadata": {
        "id": "gNKUTdOzf1yG"
      },
      "execution_count": null,
      "outputs": []
    },
    {
      "cell_type": "code",
      "source": [
        "mediabr = bruno['tramites'].mean()\n",
        "medianabr = bruno['tramites'].median()\n",
        "dsvbr = bruno['tramites'].std()\n",
        "\n",
        "print(mediabr)\n",
        "print(medianabr)\n",
        "print(dsvbr)"
      ],
      "metadata": {
        "id": "Zk63T0BYfOxi"
      },
      "execution_count": null,
      "outputs": []
    },
    {
      "cell_type": "code",
      "source": [
        "trbr2 = bruno[bruno['tramites'] <= 2]"
      ],
      "metadata": {
        "id": "P2iMyg8Ygt97"
      },
      "execution_count": null,
      "outputs": []
    },
    {
      "cell_type": "code",
      "source": [
        "sns.catplot(data=bruno, x='i_Module', y='tramites', height = 10, aspect = 2)"
      ],
      "metadata": {
        "id": "5PF_2rL6lrkx"
      },
      "execution_count": null,
      "outputs": []
    },
    {
      "cell_type": "code",
      "source": [
        "trbr3 = bruno[bruno['tramites'] > 3 ]"
      ],
      "metadata": {
        "id": "Rjndz_Weh8yo"
      },
      "execution_count": null,
      "outputs": []
    },
    {
      "cell_type": "code",
      "source": [
        "trbr2.count()"
      ],
      "metadata": {
        "id": "N8dgrSa9iC-e"
      },
      "execution_count": null,
      "outputs": []
    },
    {
      "cell_type": "code",
      "source": [
        "trbr3.count()"
      ],
      "metadata": {
        "id": "8T0LZnFuiUMT"
      },
      "execution_count": null,
      "outputs": []
    },
    {
      "cell_type": "code",
      "source": [
        "# slice apenas do 'Ricardo'\n",
        "ricardo = ss[ss['name'] == 'Ricardo Mittelmann Rigoni']"
      ],
      "metadata": {
        "id": "5Rx_THkFgC3C"
      },
      "execution_count": null,
      "outputs": []
    },
    {
      "cell_type": "code",
      "source": [
        "mediaric = ricardo['tramites'].mean()\n",
        "medianaric = ricardo['tramites'].median()\n",
        "dsvric = ricardo['tramites'].std()\n",
        "\n",
        "print(mediaric)\n",
        "print(medianaric)\n",
        "print(dsvric)"
      ],
      "metadata": {
        "id": "SoETOgHWgPyS"
      },
      "execution_count": null,
      "outputs": []
    },
    {
      "cell_type": "code",
      "source": [
        "trric2 = ricardo[ricardo['tramites'] <= 2]\n",
        "trric3 = ricardo[ricardo['tramites'] > 3 ]"
      ],
      "metadata": {
        "id": "FakbrVppkONk"
      },
      "execution_count": null,
      "outputs": []
    },
    {
      "cell_type": "code",
      "source": [
        "trric2.count()"
      ],
      "metadata": {
        "id": "1qVo-6JLlEJc"
      },
      "execution_count": null,
      "outputs": []
    },
    {
      "cell_type": "code",
      "source": [
        "trric3.count()"
      ],
      "metadata": {
        "id": "IGDtQUrAlIPs"
      },
      "execution_count": null,
      "outputs": []
    }
  ]
}