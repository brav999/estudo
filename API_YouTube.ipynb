{
  "nbformat": 4,
  "nbformat_minor": 0,
  "metadata": {
    "colab": {
      "provenance": [],
      "collapsed_sections": [],
      "authorship_tag": "ABX9TyOBbygt48T91aqZ7bbveK6Y"
    },
    "kernelspec": {
      "name": "python3",
      "display_name": "Python 3"
    },
    "language_info": {
      "name": "python"
    }
  },
  "cells": [
    {
      "cell_type": "code",
      "execution_count": null,
      "metadata": {
        "id": "4fFWArH_s5BP"
      },
      "outputs": [],
      "source": [
        "!pip install --upgrade google-api-python-client"
      ]
    },
    {
      "cell_type": "code",
      "source": [
        "from googleapiclient.discovery import build"
      ],
      "metadata": {
        "id": "k3Ul1yQdtKT8"
      },
      "execution_count": 1,
      "outputs": []
    },
    {
      "cell_type": "code",
      "source": [
        "youTubeApiKey=\"xxxxxxxxxxxxxxx\""
      ],
      "metadata": {
        "id": "w57G2qONtWAo"
      },
      "execution_count": 2,
      "outputs": []
    },
    {
      "cell_type": "code",
      "source": [
        "youtube = build('youtube', 'v3', developerKey=youTubeApiKey)"
      ],
      "metadata": {
        "id": "oTh8yPc7t1B0"
      },
      "execution_count": 3,
      "outputs": []
    },
    {
      "cell_type": "code",
      "source": [
        "playlistId = 'PLh2Y_pKOa4UcNJzv9IXUAihhCVv7YkyKQ'\n",
        "playlistName = 'Universo Data Science'\n",
        "nextPage_token = None"
      ],
      "metadata": {
        "id": "83xsA7muuBIN"
      },
      "execution_count": 4,
      "outputs": []
    },
    {
      "cell_type": "code",
      "source": [
        "playlist_videos  = []\n",
        "\n",
        "while True:\n",
        "  res = youtube.playlistItems().list(part='snippet', playlistId = playlistId, maxResults=20, pageToken=nextPage_token).execute()\n",
        "  playlist_videos += res['items']\n",
        "  \n",
        "  nextPage_token = res.get('nextPageToken')\n",
        "\n",
        "  if nextPage_token is None:\n",
        "    break"
      ],
      "metadata": {
        "id": "868zlWy8PUxl"
      },
      "execution_count": 6,
      "outputs": []
    },
    {
      "cell_type": "code",
      "source": [
        "res['items']"
      ],
      "metadata": {
        "id": "7FDsllQWP-Kr"
      },
      "execution_count": null,
      "outputs": []
    },
    {
      "cell_type": "code",
      "source": [
        "videos_ids = list(map(lambda x: x['snippet']['resourceId']['videoId'], playlist_videos))"
      ],
      "metadata": {
        "id": "41pHPiVUQBg6"
      },
      "execution_count": 8,
      "outputs": []
    },
    {
      "cell_type": "code",
      "source": [
        "stats = []\n",
        "\n",
        "for video_id in videos_ids:\n",
        "  res = youtube.videos().list(part='statistics', id=video_id).execute()\n",
        "  stats += res['items']\n"
      ],
      "metadata": {
        "id": "2sNsgBNQachS"
      },
      "execution_count": 9,
      "outputs": []
    },
    {
      "cell_type": "code",
      "source": [
        "stats"
      ],
      "metadata": {
        "id": "QlFAzk55aeuo"
      },
      "execution_count": null,
      "outputs": []
    },
    {
      "cell_type": "code",
      "source": [
        "videos_title = list(map(lambda x: x['snippet']['title'], playlist_videos))\n",
        "url_thumbnails = list(map(lambda x: x['snippet']['thumbnails']['high']['url'], playlist_videos))\n",
        "published_date = list(map(lambda x: str(x['snippet']['publishedAt']), playlist_videos)) #conversion from ISO8601 date format\n",
        "video_description = list(map(lambda x: x['snippet']['description'], playlist_videos))\n",
        "videoid = list(map(lambda x: x['snippet']['resourceId']['videoId'], playlist_videos))"
      ],
      "metadata": {
        "id": "pZxaDBpwaflP"
      },
      "execution_count": 11,
      "outputs": []
    },
    {
      "cell_type": "code",
      "source": [
        "liked = list(map(lambda x: int(x['statistics']['likeCount']), stats))\n",
        "views = list(map(lambda x: int(x['statistics']['viewCount']), stats))\n",
        "comment = list(map(lambda x: int(x['statistics']['commentCount']), stats))"
      ],
      "metadata": {
        "id": "GD8rR5lFawrC"
      },
      "execution_count": 13,
      "outputs": []
    },
    {
      "cell_type": "code",
      "source": [
        "from datetime import datetime \n",
        "\n",
        "extraction_date = [str(datetime.now())]*len(videos_ids)"
      ],
      "metadata": {
        "id": "hdpNKnBmaxJb"
      },
      "execution_count": 14,
      "outputs": []
    },
    {
      "cell_type": "code",
      "source": [
        "import pandas as pd"
      ],
      "metadata": {
        "id": "rnGFZWr-bJuv"
      },
      "execution_count": 15,
      "outputs": []
    },
    {
      "cell_type": "code",
      "source": [
        "playlist_df = pd.DataFrame({'title':videos_title,\n",
        "      'video_id':videoid,\n",
        "      'video_description':video_description,\n",
        "      'published_date':published_date,\n",
        "      'extraction_date':extraction_date,\n",
        "      'likes':liked,\n",
        "      'views':views,\n",
        "      'comment':comment,\n",
        "      'thumbnail': url_thumbnails})\n",
        "playlist_df.head(20)"
      ],
      "metadata": {
        "id": "gBg_vYC3bLDj"
      },
      "execution_count": null,
      "outputs": []
    },
    {
      "cell_type": "code",
      "source": [
        "from google.colab import files\n",
        "playlist_df.to_csv('videos.csv', encoding = 'utf-8-sig')"
      ],
      "metadata": {
        "id": "tdfwXr2xbMmo"
      },
      "execution_count": 28,
      "outputs": []
    },
    {
      "cell_type": "code",
      "source": [],
      "metadata": {
        "id": "ubJPPoBibsD9"
      },
      "execution_count": null,
      "outputs": []
    }
  ]
}