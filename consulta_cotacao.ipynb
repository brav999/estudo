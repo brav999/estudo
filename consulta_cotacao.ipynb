{
  "nbformat": 4,
  "nbformat_minor": 0,
  "metadata": {
    "colab": {
      "provenance": [],
      "authorship_tag": "ABX9TyOsC9wDLh8e/g0JWhiOOi3E"
    },
    "kernelspec": {
      "name": "python3",
      "display_name": "Python 3"
    },
    "language_info": {
      "name": "python"
    }
  },
  "cells": [
    {
      "cell_type": "code",
      "source": [
        "import requests\n",
        "import json\n",
        "\n",
        "cotacao = requests.get(\"https://economia.awesomeapi.com.br/last/USD-BRL,EUR-BRL\")\n",
        "cotacao = cotacao.json()\n",
        "cotacao_dolar = cotacao['USDBRL']['bid']\n",
        "cotacao_euro = cotacao['EURBRL']['bid']\n",
        "print(cotacao_dolar, cotacao_euro)"
      ],
      "metadata": {
        "colab": {
          "base_uri": "https://localhost:8080/"
        },
        "id": "Heh4eSGOlb5n",
        "outputId": "13157f51-f503-4681-ec56-71e465253d0a"
      },
      "execution_count": 43,
      "outputs": [
        {
          "output_type": "stream",
          "name": "stdout",
          "text": [
            "5.3165 5.1715\n"
          ]
        }
      ]
    },
    {
      "cell_type": "code",
      "source": [],
      "metadata": {
        "id": "ZL4Nvj6hmhBu"
      },
      "execution_count": null,
      "outputs": []
    }
  ]
}